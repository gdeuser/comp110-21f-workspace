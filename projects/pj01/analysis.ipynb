{
 "cells": [
  {
   "cell_type": "markdown",
   "metadata": {},
   "source": [
    "# Hypothesis: I think that students in the synchronous section will be more likely to recommend the class than the students in the remote section."
   ]
  },
  {
   "cell_type": "markdown",
   "metadata": {},
   "source": [
    "## First, I will ensure that all of the imported modules will autoreload in this Jupyter Notebook as they are updated."
   ]
  },
  {
   "cell_type": "code",
   "execution_count": 1,
   "metadata": {},
   "outputs": [
    {
     "name": "stdout",
     "output_type": "stream",
     "text": [
      "Autoreload of imported modules enabled. Be sure to save your modules!\n"
     ]
    }
   ],
   "source": [
    "%reload_ext autoreload\n",
    "%autoreload 2\n",
    "print(\"Autoreload of imported modules enabled. Be sure to save your modules!\")"
   ]
  },
  {
   "cell_type": "markdown",
   "metadata": {},
   "source": [
    "## Now, I will read the CSV File and convert it to column-oriented data."
   ]
  },
  {
   "cell_type": "code",
   "execution_count": 2,
   "metadata": {},
   "outputs": [],
   "source": [
    "from data_utils import read_csv_rows, columnar\n",
    "\n",
    "data_rows: list[dict[str, str]] = read_csv_rows(\"../../data/survey.csv\")\n",
    "columns: dict[str, list[str]] = columnar(data_rows)"
   ]
  },
  {
   "cell_type": "markdown",
   "metadata": {},
   "source": [
    "## Next, I will select the columns for class section and likelihood of recommending the class. Here are the first 5 rows in a data table:"
   ]
  },
  {
   "cell_type": "code",
   "execution_count": 3,
   "metadata": {},
   "outputs": [
    {
     "data": {
      "text/html": [
       "<table>\n",
       "<thead>\n",
       "<tr><th>section  </th><th style=\"text-align: right;\">  would_recommend</th></tr>\n",
       "</thead>\n",
       "<tbody>\n",
       "<tr><td>In-Person</td><td style=\"text-align: right;\">                7</td></tr>\n",
       "<tr><td>In-Person</td><td style=\"text-align: right;\">                7</td></tr>\n",
       "<tr><td>Remote   </td><td style=\"text-align: right;\">                7</td></tr>\n",
       "<tr><td>         </td><td style=\"text-align: right;\">                7</td></tr>\n",
       "<tr><td>Remote   </td><td style=\"text-align: right;\">                7</td></tr>\n",
       "</tbody>\n",
       "</table>"
      ],
      "text/plain": [
       "'<table>\\n<thead>\\n<tr><th>section  </th><th style=\"text-align: right;\">  would_recommend</th></tr>\\n</thead>\\n<tbody>\\n<tr><td>In-Person</td><td style=\"text-align: right;\">                7</td></tr>\\n<tr><td>In-Person</td><td style=\"text-align: right;\">                7</td></tr>\\n<tr><td>Remote   </td><td style=\"text-align: right;\">                7</td></tr>\\n<tr><td>         </td><td style=\"text-align: right;\">                7</td></tr>\\n<tr><td>Remote   </td><td style=\"text-align: right;\">                7</td></tr>\\n</tbody>\\n</table>'"
      ]
     },
     "execution_count": 3,
     "metadata": {},
     "output_type": "execute_result"
    }
   ],
   "source": [
    "from data_utils import head, select\n",
    "from tabulate import tabulate\n",
    "\n",
    "select_data: dict[str, list[str]] = select(columns, [\"section\", \"would_recommend\"])\n",
    "selected_select_data: dict[str, list[str]] = head(select_data, 5)\n",
    "\n",
    "tabulate(selected_select_data, selected_select_data.keys(), \"html\")"
   ]
  },
  {
   "cell_type": "markdown",
   "metadata": {},
   "source": [
    "## Now, I need to extract the recommendation ratings from the Remote section."
   ]
  },
  {
   "cell_type": "code",
   "execution_count": 4,
   "metadata": {},
   "outputs": [
    {
     "name": "stdout",
     "output_type": "stream",
     "text": [
      "Values of recommendation from the remote section: [7, 7, 4, 6, 4, 6, 5, 4, 4, 7, 2, 4, 7, 4, 2, 6, 6, 5, 2, 5, 5, 7, 5, 6, 7, 4, 7, 7, 6, 7, 7, 6, 7, 7, 7, 7, 4, 7, 7, 7, 7, 7, 6, 5, 7, 7, 4, 7, 7, 5, 7, 6, 5, 6, 7, 6, 7, 7, 7, 7, 7, 7, 6, 7, 7, 7, 5, 7, 7, 5, 7, 7, 7, 7, 6, 5, 6, 1, 7, 7, 3, 3, 6, 4, 6, 7, 7, 6, 6, 6, 6, 6, 7, 7, 7, 7, 6, 3, 6, 6, 5, 4, 6, 1, 7, 6, 5, 6, 2, 4, 7, 2, 7, 5, 6, 4, 5, 7, 5, 5, 7, 7, 7, 3, 4, 4, 6, 4, 4, 3, 6, 3, 6, 7, 6, 7, 6, 7, 4, 5, 4, 5, 4, 6, 6, 6, 3, 7, 4, 6, 5, 6, 5, 4, 5, 7, 7, 4, 6, 7, 3, 5, 5, 4, 3, 7, 2, 2, 7, 7, 7, 5, 3, 5, 5, 5, 5, 2, 4, 4, 4, 6, 6, 7, 7, 3, 6, 5, 5, 4, 5, 4]\n"
     ]
    }
   ],
   "source": [
    "from data_utils import remote_recommendation\n",
    "\n",
    "remote_would_recommend: list[int] = remote_recommendation(select_data)\n",
    "print(f\"Values of recommendation from the remote section: {remote_would_recommend}\")\n"
   ]
  },
  {
   "cell_type": "markdown",
   "metadata": {},
   "source": [
    "### Then, I will average all of the values given for the recommendation ratings."
   ]
  },
  {
   "cell_type": "code",
   "execution_count": 5,
   "metadata": {},
   "outputs": [
    {
     "name": "stdout",
     "output_type": "stream",
     "text": [
      "Average value: 5.494791666666667\n"
     ]
    }
   ],
   "source": [
    "from data_utils import average\n",
    "\n",
    "average_remote: float = average(remote_would_recommend)\n",
    "print(f\"Average value: {average_remote}\")"
   ]
  },
  {
   "cell_type": "markdown",
   "metadata": {},
   "source": [
    "## I now will find the responses from the In-Person section and their ratings of recommendation."
   ]
  },
  {
   "cell_type": "code",
   "execution_count": 6,
   "metadata": {},
   "outputs": [
    {
     "name": "stdout",
     "output_type": "stream",
     "text": [
      "Values of recommendation from the in person section: [7, 7, 4, 5, 6, 6, 6, 7, 5, 1, 3, 7, 7, 7, 7, 5, 5, 6, 5, 6, 5, 5, 5, 3, 5, 3, 4, 7, 7, 5, 7, 6, 2, 3, 5, 6, 6, 4, 5, 7, 7, 5, 5, 6, 5, 7, 6, 6, 7, 6, 4, 7, 4, 7, 4, 5, 3, 6, 5, 3, 3, 6, 2, 7, 3, 5, 7, 3, 7, 3, 6, 7, 4, 7, 7, 5, 5, 5, 6, 7, 5, 5, 3, 7, 7, 1, 5, 4, 4, 4, 7, 6, 6, 7, 7, 5, 7, 7, 5, 6, 6, 6, 6, 7, 7, 7, 7, 5, 5, 6, 7, 6, 6, 7, 7, 7, 7, 7, 2, 6, 7, 6, 7, 7, 6, 7, 7, 5, 6, 7, 7, 7, 6, 6, 4, 6, 6, 7, 5, 7, 7, 6, 6, 7, 5, 7, 7, 4, 7, 6, 5, 7, 7, 7, 5, 4, 6, 7, 4, 7, 6, 7, 7, 5, 6, 4, 7, 6, 1, 5, 6, 4, 4, 7, 5, 5, 4, 6, 4, 4, 6, 4, 6, 3, 6, 3, 5, 7, 7, 6, 6, 1, 6, 7, 7, 7, 6, 7, 6, 5, 5, 4, 4, 4, 6, 3, 4, 7, 6, 4, 6, 6, 4, 6, 4, 6, 4, 6, 6, 7, 7, 7, 6, 7, 6, 5, 5, 7, 6, 5, 7, 7, 7, 1, 7, 7, 7, 7, 6, 4, 7, 7, 4, 3, 4, 5, 4, 6, 7, 7, 4, 6, 4, 4, 3, 7, 6, 5, 6, 4, 3, 7, 7, 4, 6, 6, 4, 5, 4, 4, 3, 6, 6, 6, 6, 4, 6, 5, 1, 2, 5, 4, 1, 2, 4, 4, 1, 1, 1, 5, 4, 6, 3, 4, 5, 7, 7, 3, 5, 3, 6, 5, 2, 7, 6, 7, 4, 2, 7, 7, 7, 4, 7, 6, 5, 7, 5, 6, 3, 6, 7, 6, 7, 7, 7, 7, 7, 6, 7, 7, 7, 7, 6, 3, 6, 6, 4, 7, 7, 7, 7, 7, 5, 6, 7, 5, 5, 4, 4, 7]\n"
     ]
    }
   ],
   "source": [
    "from data_utils import in_person_recommendation\n",
    "\n",
    "in_person_would_recommend: list[int] = in_person_recommendation(select_data)\n",
    "print(f\"Values of recommendation from the in person section: {in_person_would_recommend}\")\n"
   ]
  },
  {
   "cell_type": "markdown",
   "metadata": {},
   "source": [
    "### Then, the averages for all of the values for likelihood of recommendation to a friend is found for the in-person section."
   ]
  },
  {
   "cell_type": "code",
   "execution_count": 7,
   "metadata": {},
   "outputs": [
    {
     "name": "stdout",
     "output_type": "stream",
     "text": [
      "Average value: 5.451428571428571\n"
     ]
    }
   ],
   "source": [
    "from data_utils import average\n",
    "\n",
    "average_in_person: float = average(in_person_would_recommend)\n",
    "print(f\"Average value: {average_in_person}\")"
   ]
  },
  {
   "cell_type": "markdown",
   "metadata": {},
   "source": [
    "## Now, I will put all of the data together."
   ]
  },
  {
   "cell_type": "code",
   "execution_count": 8,
   "metadata": {},
   "outputs": [
    {
     "name": "stdout",
     "output_type": "stream",
     "text": [
      "The average value for likelihood of recommendation for the In-Person section is 5.451428571428571, which was an avergae across 350 people.\n",
      "The average value for likelihood of recommendation for the Remote section is 5.494791666666667, which was an avergae across 192 people.\n"
     ]
    }
   ],
   "source": [
    "from data_utils import count\n",
    "\n",
    "section: list[str] = select_data[\"section\"]\n",
    "total_people: dict[str, int] = count(section)\n",
    "\n",
    "print(f\"The average value for likelihood of recommendation for the In-Person section is {average_in_person}, which was an avergae across {total_people['In-Person']} people.\")\n",
    "print(f\"The average value for likelihood of recommendation for the Remote section is {average_remote}, which was an avergae across {total_people['Remote']} people.\")\n"
   ]
  },
  {
   "cell_type": "markdown",
   "metadata": {},
   "source": [
    "# In Conclusion, I  will compare the averages for the two sections to see which has the higher average for likelihood of recommending to a friend, and then discuss moderating variables and the overall rating of the class."
   ]
  },
  {
   "cell_type": "markdown",
   "metadata": {},
   "source": [
    "## I hypothesized that the Remote section would rate the class less favorably than the In-Person section in terms of likelihood of recommendation. The survey showed that the average recommendation ratings for the two sections are relatively the same, with the Remote section having a bigger average by ~ 0.04. This could be because the students in the remote section enjoy that the computer-oriented nature of the class is computer-based. The similarity in the averages could be due to the fact that the average for the In-Person section had more survey responses to pull from (350 responses), as opposed to the 192 responses from the Remote section. The inequality in number of responses across both sections could have skewed the accuracy of the averages. Overall, the recommendation ratings for COMP110 were favorable, as the average was around 5.5 on a scale of 1-7 for both sections. The bar chart below shows the distribution of recommendation ratings across all survey responses, and proves that the average of 5.5 for both sections is reasonable when compared to the data set as a whole."
   ]
  },
  {
   "cell_type": "markdown",
   "metadata": {},
   "source": [
    "### The cell below shows the coding process to format the bar chart."
   ]
  },
  {
   "cell_type": "code",
   "execution_count": 9,
   "metadata": {},
   "outputs": [
    {
     "name": "stdout",
     "output_type": "stream",
     "text": [
      "{'7': 197, '4': 88, '6': 134, '5': 92, '1': 12, '3': 34, '2': 16}\n"
     ]
    },
    {
     "data": {
      "image/png": "[encoded data removed]",
      "text/plain": [
       "<Figure size 432x288 with 1 Axes>"
      ]
     },
     "metadata": {
      "needs_background": "light"
     },
     "output_type": "display_data"
    }
   ],
   "source": [
    "from matplotlib import pyplot as plt\n",
    "\n",
    "total_numbers: dict[str, int] = count(select_data[\"would_recommend\"])\n",
    "\n",
    "plt.bar(total_numbers.keys(), total_numbers.values())\n",
    "plt.title(\"Recommendation Response Distribution\")\n",
    "plt.xlabel(\"Recommendation Response\")\n",
    "plt.ylabel(\"Count\")\n",
    "\n",
    "print(total_numbers)"
   ]
  }
 ],
 "metadata": {
  "interpreter": {
   "hash": "afad6556605c7ab29bc646b65d3f5ba5bdbc94a09caec2890df9a50c3daa52aa"
  },
  "kernelspec": {
   "display_name": "Python 3.9.6 64-bit",
   "name": "python3"
  },
  "language_info": {
   "codemirror_mode": {
    "name": "ipython",
    "version": 3
   },
   "file_extension": ".py",
   "mimetype": "text/x-python",
   "name": "python",
   "nbconvert_exporter": "python",
   "pygments_lexer": "ipython3",
   "version": "3.9.6"
  },
  "orig_nbformat": 4
 },
 "nbformat": 4,
 "nbformat_minor": 2
}
