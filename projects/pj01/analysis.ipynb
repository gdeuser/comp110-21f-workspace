{
 "cells": [
  {
   "cell_type": "markdown",
   "metadata": {},
   "source": [
    "# Hypothesis: I think that students in the synchronous section will be more likely to recommend the class than the students in the asynchronous section."
   ]
  },
  {
   "cell_type": "markdown",
   "metadata": {},
   "source": [
    "First, I will ensure that all of the imported modules will autoreload in this Jupyter Notebook as they are updated."
   ]
  },
  {
   "cell_type": "code",
   "execution_count": 10,
   "metadata": {},
   "outputs": [
    {
     "name": "stdout",
     "output_type": "stream",
     "text": [
      "Autoreload of imported modules enabled. Be sure to save your modules!\n"
     ]
    }
   ],
   "source": [
    "%reload_ext autoreload\n",
    "%autoreload 2\n",
    "print(\"Autoreload of imported modules enabled. Be sure to save your modules!\")"
   ]
  },
  {
   "cell_type": "markdown",
   "metadata": {},
   "source": [
    "Now, I will read the csv and convert it to column-oriented data."
   ]
  },
  {
   "cell_type": "code",
   "execution_count": 11,
   "metadata": {},
   "outputs": [],
   "source": [
    "from data_utils import read_csv_rows, columnar\n",
    "\n",
    "data_rows: list[dict[str, str]] = read_csv_rows(\"../../data/survey.csv\")\n",
    "columns: dict[str, list[str]] = columnar(data_rows)"
   ]
  },
  {
   "cell_type": "markdown",
   "metadata": {},
   "source": [
    "## Next, I will select the columns for class section and likelihood of recommending the class. here are the first 10 rows:"
   ]
  },
  {
   "cell_type": "code",
   "execution_count": 12,
   "metadata": {},
   "outputs": [
    {
     "data": {
      "text/plain": [
       "{'section': ['In-Person',\n",
       "  'In-Person',\n",
       "  'Remote',\n",
       "  '',\n",
       "  'Remote',\n",
       "  'Remote',\n",
       "  'Remote',\n",
       "  'Remote',\n",
       "  'Remote',\n",
       "  'Remote'],\n",
       " 'would_recommend': ['7', '7', '7', '7', '7', '4', '6', '4', '6', '5']}"
      ]
     },
     "execution_count": 12,
     "metadata": {},
     "output_type": "execute_result"
    }
   ],
   "source": [
    "from data_utils import head, select\n",
    "\n",
    "select_data: dict[str, list[str]] = select(columns, [\"section\", \"would_recommend\"])\n",
    "head(select_data, 10)"
   ]
  }
 ],
 "metadata": {
  "interpreter": {
   "hash": "afad6556605c7ab29bc646b65d3f5ba5bdbc94a09caec2890df9a50c3daa52aa"
  },
  "kernelspec": {
   "display_name": "Python 3.9.6 64-bit",
   "name": "python3"
  },
  "language_info": {
   "codemirror_mode": {
    "name": "ipython",
    "version": 3
   },
   "file_extension": ".py",
   "mimetype": "text/x-python",
   "name": "python",
   "nbconvert_exporter": "python",
   "pygments_lexer": "ipython3",
   "version": "3.9.6"
  },
  "orig_nbformat": 4
 },
 "nbformat": 4,
 "nbformat_minor": 2
}
